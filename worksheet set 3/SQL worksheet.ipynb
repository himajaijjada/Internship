{
 "cells": [
  {
   "cell_type": "code",
   "execution_count": 1,
   "id": "ccd18a51",
   "metadata": {},
   "outputs": [],
   "source": [
    "import sqlite3"
   ]
  },
  {
   "cell_type": "code",
   "execution_count": 2,
   "id": "f551c5f3",
   "metadata": {},
   "outputs": [],
   "source": [
    "db=sqlite3.connect(\"customersdata.db\")"
   ]
  },
  {
   "cell_type": "code",
   "execution_count": 3,
   "id": "d5c31991",
   "metadata": {},
   "outputs": [],
   "source": [
    "cur=db.cursor()"
   ]
  },
  {
   "cell_type": "code",
   "execution_count": 4,
   "id": "3b4406cb",
   "metadata": {},
   "outputs": [
    {
     "data": {
      "text/plain": [
       "<sqlite3.Cursor at 0x1f6f5443c70>"
      ]
     },
     "execution_count": 4,
     "metadata": {},
     "output_type": "execute_result"
    }
   ],
   "source": [
    "cur.execute(\"create table Customers (customerNumber int primary key, CustomerName varchar(30), ContactLastName varchar(20), ContactFirstName varchar(20), phone int, addressLine1 varchar(20), addressLine2 varchar(20), city varchar(20), state varchar(20), postalCode int, country varchar(20), salesRepEmployeeNumber int, creditLimit float);\")"
   ]
  },
  {
   "cell_type": "code",
   "execution_count": 5,
   "id": "5efe4669",
   "metadata": {},
   "outputs": [
    {
     "data": {
      "text/plain": [
       "<sqlite3.Cursor at 0x1f6f5443c70>"
      ]
     },
     "execution_count": 5,
     "metadata": {},
     "output_type": "execute_result"
    }
   ],
   "source": [
    "cur.execute(\"create table Orders(orderNumber int primary key, orderDate int, requiredDate int, shippedDate int, status varchar(20), comments varchar(30), customerNumber int);\")"
   ]
  },
  {
   "cell_type": "code",
   "execution_count": 6,
   "id": "3c67cc7b",
   "metadata": {},
   "outputs": [
    {
     "data": {
      "text/plain": [
       "<sqlite3.Cursor at 0x1f6f5443c70>"
      ]
     },
     "execution_count": 6,
     "metadata": {},
     "output_type": "execute_result"
    }
   ],
   "source": [
    "cur.execute(\"select * from Orders;\")"
   ]
  },
  {
   "cell_type": "code",
   "execution_count": 7,
   "id": "fa4230e7",
   "metadata": {},
   "outputs": [
    {
     "data": {
      "text/plain": [
       "<sqlite3.Cursor at 0x1f6f5443c70>"
      ]
     },
     "execution_count": 7,
     "metadata": {},
     "output_type": "execute_result"
    }
   ],
   "source": [
    "cur.execute(\" select comments from Orders;\")"
   ]
  },
  {
   "cell_type": "code",
   "execution_count": 8,
   "id": "77bdadd8",
   "metadata": {},
   "outputs": [
    {
     "data": {
      "text/plain": [
       "<sqlite3.Cursor at 0x1f6f5443c70>"
      ]
     },
     "execution_count": 8,
     "metadata": {},
     "output_type": "execute_result"
    }
   ],
   "source": [
    "cur.execute(\" select orderDate, count(orderNumber) from orders group by orderDate;\")"
   ]
  },
  {
   "cell_type": "code",
   "execution_count": 9,
   "id": "1cdee945",
   "metadata": {},
   "outputs": [
    {
     "data": {
      "text/plain": [
       "<sqlite3.Cursor at 0x1f6f5443c70>"
      ]
     },
     "execution_count": 9,
     "metadata": {},
     "output_type": "execute_result"
    }
   ],
   "source": [
    "cur.execute (\"create table employees (employeeNumber int primary key, lastName varchar(20), firstName varchar(20), extension varchar(20), email varchar(30), OfficeCode varchar(10), reportsTo varchar(30), jobTitle varchar(30));\")"
   ]
  },
  {
   "cell_type": "code",
   "execution_count": 10,
   "id": "8a1f94c8",
   "metadata": {},
   "outputs": [
    {
     "data": {
      "text/plain": [
       "<sqlite3.Cursor at 0x1f6f5443c70>"
      ]
     },
     "execution_count": 10,
     "metadata": {},
     "output_type": "execute_result"
    }
   ],
   "source": [
    "cur.execute(\"select employeeNumber, lastName,firstName from employees;\")"
   ]
  },
  {
   "cell_type": "code",
   "execution_count": 11,
   "id": "ce1d4a16",
   "metadata": {},
   "outputs": [
    {
     "data": {
      "text/plain": [
       "<sqlite3.Cursor at 0x1f6f5443c70>"
      ]
     },
     "execution_count": 11,
     "metadata": {},
     "output_type": "execute_result"
    }
   ],
   "source": [
    "cur.execute(\"select Orders.orderNumber, Customers.CustomerName from Customers INNER JOIN Orders ON Orders.customerNumber=Customers.customerNumber;\")"
   ]
  },
  {
   "cell_type": "code",
   "execution_count": 12,
   "id": "b4be8eae",
   "metadata": {},
   "outputs": [
    {
     "data": {
      "text/plain": [
       "<sqlite3.Cursor at 0x1f6f5443c70>"
      ]
     },
     "execution_count": 12,
     "metadata": {},
     "output_type": "execute_result"
    }
   ],
   "source": [
    "cur.execute(\" select customerName, salesRepEmployeeNumber from Customers;\")"
   ]
  },
  {
   "cell_type": "code",
   "execution_count": 13,
   "id": "2be9288a",
   "metadata": {},
   "outputs": [
    {
     "data": {
      "text/plain": [
       "<sqlite3.Cursor at 0x1f6f5443c70>"
      ]
     },
     "execution_count": 13,
     "metadata": {},
     "output_type": "execute_result"
    }
   ],
   "source": [
    "cur.execute(\"create table payments (customerNumber int NOT NULL primary key, checkNumber int, paymentDate DATE, amount int);\")"
   ]
  },
  {
   "cell_type": "code",
   "execution_count": 14,
   "id": "3561de66",
   "metadata": {},
   "outputs": [
    {
     "data": {
      "text/plain": [
       "<sqlite3.Cursor at 0x1f6f5443c70>"
      ]
     },
     "execution_count": 14,
     "metadata": {},
     "output_type": "execute_result"
    }
   ],
   "source": [
    "cur.execute(\"select date(paymentdate), sum(amount) as total from payments group by date(paymentdate);\")"
   ]
  },
  {
   "cell_type": "code",
   "execution_count": 15,
   "id": "79b0167f",
   "metadata": {},
   "outputs": [
    {
     "data": {
      "text/plain": [
       "<sqlite3.Cursor at 0x1f6f5443c70>"
      ]
     },
     "execution_count": 15,
     "metadata": {},
     "output_type": "execute_result"
    }
   ],
   "source": [
    "cur.execute(\"create table products (productCode int primary key, productName varchar(20), productLine varchar(20), productScale varchar(20), productVendor varchar(20), productDescription varchar(20), quantityInStock int, buyPrice int, MSRP int);\")"
   ]
  },
  {
   "cell_type": "code",
   "execution_count": 16,
   "id": "6ccfaabc",
   "metadata": {},
   "outputs": [
    {
     "data": {
      "text/plain": [
       "<sqlite3.Cursor at 0x1f6f5443c70>"
      ]
     },
     "execution_count": 16,
     "metadata": {},
     "output_type": "execute_result"
    }
   ],
   "source": [
    "cur.execute(\"select productName, MSRP, productDescription from products;\")"
   ]
  },
  {
   "cell_type": "code",
   "execution_count": 17,
   "id": "9110b126",
   "metadata": {},
   "outputs": [
    {
     "data": {
      "text/plain": [
       "<sqlite3.Cursor at 0x1f6f5443c70>"
      ]
     },
     "execution_count": 17,
     "metadata": {},
     "output_type": "execute_result"
    }
   ],
   "source": [
    "cur.execute(\"select productName, productDescription from products group by productName order by count(productName) desc limit 1;\")"
   ]
  },
  {
   "cell_type": "code",
   "execution_count": 18,
   "id": "e92666a7",
   "metadata": {},
   "outputs": [
    {
     "data": {
      "text/plain": [
       "<sqlite3.Cursor at 0x1f6f5443c70>"
      ]
     },
     "execution_count": 18,
     "metadata": {},
     "output_type": "execute_result"
    }
   ],
   "source": [
    "cur.execute(\"select city from Customers inner join orders on Customers.customerNumber=Orders.customerNumber group by city order by city desc limit 1;\")"
   ]
  },
  {
   "cell_type": "code",
   "execution_count": 19,
   "id": "55484a32",
   "metadata": {},
   "outputs": [
    {
     "data": {
      "text/plain": [
       "<sqlite3.Cursor at 0x1f6f5443c70>"
      ]
     },
     "execution_count": 19,
     "metadata": {},
     "output_type": "execute_result"
    }
   ],
   "source": [
    "cur.execute(\"select state from customers group by state order by count(customerNumber) desc limit 1;\")"
   ]
  },
  {
   "cell_type": "code",
   "execution_count": 20,
   "id": "5b7d6621",
   "metadata": {},
   "outputs": [
    {
     "data": {
      "text/plain": [
       "<sqlite3.Cursor at 0x1f6f5443c70>"
      ]
     },
     "execution_count": 20,
     "metadata": {},
     "output_type": "execute_result"
    }
   ],
   "source": [
    "cur.execute(\"select employeeNumber from employees;\")\n",
    "cur.execute(\"select (firstName || '' || lastName) as fullname from employees order by fullname;\")"
   ]
  },
  {
   "cell_type": "code",
   "execution_count": 21,
   "id": "e35e6eeb",
   "metadata": {},
   "outputs": [
    {
     "data": {
      "text/plain": [
       "<sqlite3.Cursor at 0x1f6f5443c70>"
      ]
     },
     "execution_count": 21,
     "metadata": {},
     "output_type": "execute_result"
    }
   ],
   "source": [
    "cur.execute(\"create table orderdetails (orderNumber int NOT NULL primary key, productCode int, quantityOrdered int, priceEach int, orderLineNumber int);\")"
   ]
  },
  {
   "cell_type": "code",
   "execution_count": 22,
   "id": "8cd968ff",
   "metadata": {
    "scrolled": true
   },
   "outputs": [
    {
     "data": {
      "text/plain": [
       "<sqlite3.Cursor at 0x1f6f5443c70>"
      ]
     },
     "execution_count": 22,
     "metadata": {},
     "output_type": "execute_result"
    }
   ],
   "source": [
    "cur.execute(\"select orders.orderNumber, Customers.customerName, orderdetails.quantityOrdered, orderdetails.quantityOrdered*orderdetails.priceEach as totalamount from ((orders inner join Customers on orders.customerNumber=Customers.customerNumber) inner join orderdetails on orders.orderNumber=orderdetails.orderNumber)\")"
   ]
  },
  {
   "cell_type": "code",
   "execution_count": null,
   "id": "778e9401",
   "metadata": {},
   "outputs": [],
   "source": []
  }
 ],
 "metadata": {
  "kernelspec": {
   "display_name": "Python 3",
   "language": "python",
   "name": "python3"
  },
  "language_info": {
   "codemirror_mode": {
    "name": "ipython",
    "version": 3
   },
   "file_extension": ".py",
   "mimetype": "text/x-python",
   "name": "python",
   "nbconvert_exporter": "python",
   "pygments_lexer": "ipython3",
   "version": "3.8.8"
  }
 },
 "nbformat": 4,
 "nbformat_minor": 5
}
