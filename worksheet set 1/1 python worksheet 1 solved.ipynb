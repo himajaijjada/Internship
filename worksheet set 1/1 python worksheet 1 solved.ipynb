{
 "cells": [
  {
   "cell_type": "markdown",
   "id": "77a06a6c",
   "metadata": {},
   "source": [
    "# Q11-15 solutions"
   ]
  },
  {
   "cell_type": "markdown",
   "id": "5c805c67",
   "metadata": {},
   "source": [
    "11.Write a python program to find the factorial of a number."
   ]
  },
  {
   "cell_type": "code",
   "execution_count": null,
   "id": "113bcf8d",
   "metadata": {},
   "outputs": [],
   "source": [
    "import math\n",
    "\n",
    "def factorial_function(arg):\n",
    "    return(math.factorial(arg))\n",
    "\n",
    "try:\n",
    "    x = int(input(\"Enter an integer here: \"))\n",
    "    calc_factorial = factorial_function(x)\n",
    "    print(\"Factorial of the entered integer \", x, \"is\", calc_factorial)\n",
    "except ValueError:\n",
    "    print(\"You have not entered an integer, please try again\")"
   ]
  },
  {
   "cell_type": "code",
   "execution_count": null,
   "id": "77e7b5fd",
   "metadata": {},
   "outputs": [],
   "source": []
  },
  {
   "cell_type": "markdown",
   "id": "ca2b02c6",
   "metadata": {},
   "source": [
    "12.Write a python program to find whether a number is prime or composite."
   ]
  },
  {
   "cell_type": "code",
   "execution_count": null,
   "id": "0fe8a185",
   "metadata": {},
   "outputs": [],
   "source": [
    "def isprime(n):\n",
    "    \n",
    "    _isprime = False\n",
    "    \n",
    "    if n > 1:\n",
    "        for i in range(2,n):\n",
    "            if n%2 == 0:\n",
    "                _isprime = True\n",
    "                break\n",
    "\n",
    "    else:\n",
    "        _isprime = True\n",
    "                \n",
    "    if _isprime:\n",
    "        print(n,\"is not a prime number\")\n",
    "    else:\n",
    "        print(n,\"is a prime number\")\n",
    "        \n",
    "if __name__ == \"__main__\":\n",
    "    isprime(int(input(\"Enter you number: \")))"
   ]
  },
  {
   "cell_type": "code",
   "execution_count": null,
   "id": "7e1af0b5",
   "metadata": {},
   "outputs": [],
   "source": []
  },
  {
   "cell_type": "markdown",
   "id": "98d8a249",
   "metadata": {},
   "source": [
    "13.Write a python program to check whether a given string is palindrome or not."
   ]
  },
  {
   "cell_type": "code",
   "execution_count": null,
   "id": "8045bb77",
   "metadata": {},
   "outputs": [],
   "source": [
    "def Palindrome_check(str):\n",
    "    return str == str [::-1] # to check if the string entered is same when reversed\n",
    "\n",
    "try:\n",
    "    string = input(\"Enter a string here: \")\n",
    "    if any(s.isdigit() for s in string):\n",
    "        raise ValueError\n",
    "    elif Palindrome_check(string):\n",
    "        print(\"The string you entered\", string,\" is a palindrome\")\n",
    "    else:\n",
    "        print(\"The string you entered\", string,\" is not a palindrome\")\n",
    "except ValueError:\n",
    "    print(\"You have entered digits instead of a string!\")"
   ]
  },
  {
   "cell_type": "code",
   "execution_count": null,
   "id": "7c9f2acc",
   "metadata": {},
   "outputs": [],
   "source": []
  },
  {
   "cell_type": "markdown",
   "id": "ff0a19c7",
   "metadata": {},
   "source": [
    "14.Write a Python program to get the third side of right-angled triangle from two given sides."
   ]
  },
  {
   "cell_type": "code",
   "execution_count": null,
   "id": "f7a665e7",
   "metadata": {},
   "outputs": [],
   "source": [
    "a = int(input(\"Enter the first side of right angled triangle: \"))\n",
    "\n",
    "print('The first side of right angled triangle is entered as ',a)\n",
    "\n",
    "b = int(input(\"Enter the second side of right angled triangle: \"))\n",
    "\n",
    "print('The second side of right angled triangle is entered as ',b)\n",
    "\n",
    "import math\n",
    "c = math.sqrt(abs((a*a)+(b*b)))\n",
    "\n",
    "print(\"The third side of right angled triangle is\", c)"
   ]
  },
  {
   "cell_type": "code",
   "execution_count": null,
   "id": "7f4e82dd",
   "metadata": {},
   "outputs": [],
   "source": []
  },
  {
   "cell_type": "markdown",
   "id": "fffdefa5",
   "metadata": {},
   "source": [
    "15.Write a python program to print the frequency of each of the characters present in a given string."
   ]
  },
  {
   "cell_type": "code",
   "execution_count": null,
   "id": "56a4ccb6",
   "metadata": {},
   "outputs": [],
   "source": [
    "try:\n",
    "    string_char_frequency = input(\"Enter a word or sentence to check the frequency of each letter in it: \")\n",
    "    if any(d.isdigit() for d in string_char_frequency):\n",
    "        raise ValueError\n",
    "    else:\n",
    "        frequency_check = {i : string_char_frequency.count(i) for i in set(string_char_frequency)}\n",
    "        print(\"The count of each and every letter in\", string_char_frequency, \"is displayed with the letter first and the number of occurences besides it: \")\n",
    "        print('\\n',frequency_check)\n",
    "except ValueError:\n",
    "    print(\"Sorry you have not entered a string\")"
   ]
  },
  {
   "cell_type": "code",
   "execution_count": null,
   "id": "41b913bd",
   "metadata": {},
   "outputs": [],
   "source": []
  }
 ],
 "metadata": {
  "kernelspec": {
   "display_name": "Python 3",
   "language": "python",
   "name": "python3"
  },
  "language_info": {
   "codemirror_mode": {
    "name": "ipython",
    "version": 3
   },
   "file_extension": ".py",
   "mimetype": "text/x-python",
   "name": "python",
   "nbconvert_exporter": "python",
   "pygments_lexer": "ipython3",
   "version": "3.8.8"
  }
 },
 "nbformat": 4,
 "nbformat_minor": 5
}
